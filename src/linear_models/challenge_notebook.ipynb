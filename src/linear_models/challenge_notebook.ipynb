{
 "cells": [
  {
   "cell_type": "code",
   "execution_count": 1,
   "metadata": {},
   "outputs": [],
   "source": [
    "import statsmodels.api as sm\n",
    "\n",
    "import matplotlib.pyplot as plt\n",
    "import seaborn as sns\n",
    "\n",
    "import numpy as np\n",
    "import pandas as pd\n",
    "\n",
    "from sklearn.preprocessing import MinMaxScaler\n",
    "from sklearn.preprocessing import StandardScaler\n",
    "import shap"
   ]
  },
  {
   "cell_type": "code",
   "execution_count": null,
   "metadata": {},
   "outputs": [
    {
     "name": "stdout",
     "output_type": "stream",
     "text": [
      "284 568 568\n"
     ]
    }
   ],
   "source": [
    "# fetch dataset \n",
    "credit_score = pd.read_csv(\"../../data/credit_score.csv\")\n",
    "credit_score['R_EXPENDITURE_SQR'] = credit_score['R_EXPENDITURE']**2\n",
    "\n",
    "# data (as pandas dataframes) \n",
    "X = credit_score[['INCOME','R_DEBT_INCOME','R_EXPENDITURE','R_EXPENDITURE_SQR','R_EXPENDITURE_SAVINGS','R_ENTERTAINMENT','CAT_GAMBLING']].copy()\n",
    "\n",
    "# one-hot encoding\n",
    "X['GAMBLING_LOW'] = X['CAT_GAMBLING'].apply(lambda x: 1 if x == 'Low' else 0)\n",
    "X['GAMBLING_HIGH']  = X['CAT_GAMBLING'].apply(lambda x: 1 if x == 'High' else 0)\n",
    "X.drop(columns=['CAT_GAMBLING'], inplace=True)\n",
    "\n",
    "y = credit_score['DEFAULT']\n",
    "\n",
    "# get a balanced dataset\n",
    "n = np.sum(y)\n",
    "X = pd.concat([X[y==1],X[y==0].sample(n=n, random_state=0)])\n",
    "y = pd.concat([y[y==1],y[y==0].sample(n=n, random_state=0)])\n",
    "\n",
    "print(n,len(X),len(y))\n"
   ]
  },
  {
   "cell_type": "code",
   "execution_count": 3,
   "metadata": {},
   "outputs": [
    {
     "name": "stdout",
     "output_type": "stream",
     "text": [
      "Optimization terminated successfully.\n",
      "         Current function value: 0.636155\n",
      "         Iterations 6\n"
     ]
    },
    {
     "data": {
      "text/html": [
       "<table class=\"simpletable\">\n",
       "<caption>Logit Regression Results</caption>\n",
       "<tr>\n",
       "  <th>Dep. Variable:</th>        <td>DEFAULT</td>     <th>  No. Observations:  </th>  <td>   568</td>  \n",
       "</tr>\n",
       "<tr>\n",
       "  <th>Model:</th>                 <td>Logit</td>      <th>  Df Residuals:      </th>  <td>   560</td>  \n",
       "</tr>\n",
       "<tr>\n",
       "  <th>Method:</th>                 <td>MLE</td>       <th>  Df Model:          </th>  <td>     7</td>  \n",
       "</tr>\n",
       "<tr>\n",
       "  <th>Date:</th>            <td>Wed, 16 Oct 2024</td> <th>  Pseudo R-squ.:     </th>  <td>0.08222</td> \n",
       "</tr>\n",
       "<tr>\n",
       "  <th>Time:</th>                <td>15:16:21</td>     <th>  Log-Likelihood:    </th> <td> -361.34</td> \n",
       "</tr>\n",
       "<tr>\n",
       "  <th>converged:</th>             <td>True</td>       <th>  LL-Null:           </th> <td> -393.71</td> \n",
       "</tr>\n",
       "<tr>\n",
       "  <th>Covariance Type:</th>     <td>nonrobust</td>    <th>  LLR p-value:       </th> <td>1.694e-11</td>\n",
       "</tr>\n",
       "</table>\n",
       "<table class=\"simpletable\">\n",
       "<tr>\n",
       "            <td></td>               <th>coef</th>     <th>std err</th>      <th>z</th>      <th>P>|z|</th>  <th>[0.025</th>    <th>0.975]</th>  \n",
       "</tr>\n",
       "<tr>\n",
       "  <th>INCOME</th>                <td>-5.557e-07</td> <td>  8.7e-07</td> <td>   -0.639</td> <td> 0.523</td> <td>-2.26e-06</td> <td> 1.15e-06</td>\n",
       "</tr>\n",
       "<tr>\n",
       "  <th>R_DEBT_INCOME</th>         <td>    0.1147</td> <td>    0.018</td> <td>    6.468</td> <td> 0.000</td> <td>    0.080</td> <td>    0.149</td>\n",
       "</tr>\n",
       "<tr>\n",
       "  <th>R_EXPENDITURE</th>         <td>   -7.3747</td> <td>    3.140</td> <td>   -2.349</td> <td> 0.019</td> <td>  -13.529</td> <td>   -1.221</td>\n",
       "</tr>\n",
       "<tr>\n",
       "  <th>R_EXPENDITURE_SQR</th>     <td>    9.1949</td> <td>    3.595</td> <td>    2.558</td> <td> 0.011</td> <td>    2.149</td> <td>   16.241</td>\n",
       "</tr>\n",
       "<tr>\n",
       "  <th>R_EXPENDITURE_SAVINGS</th> <td>    0.0644</td> <td>    0.053</td> <td>    1.219</td> <td> 0.223</td> <td>   -0.039</td> <td>    0.168</td>\n",
       "</tr>\n",
       "<tr>\n",
       "  <th>R_ENTERTAINMENT</th>       <td>    0.8753</td> <td>    1.363</td> <td>    0.642</td> <td> 0.521</td> <td>   -1.796</td> <td>    3.547</td>\n",
       "</tr>\n",
       "<tr>\n",
       "  <th>GAMBLING_LOW</th>          <td>    0.2376</td> <td>    0.299</td> <td>    0.794</td> <td> 0.427</td> <td>   -0.349</td> <td>    0.824</td>\n",
       "</tr>\n",
       "<tr>\n",
       "  <th>GAMBLING_HIGH</th>         <td>    0.2490</td> <td>    0.219</td> <td>    1.138</td> <td> 0.255</td> <td>   -0.180</td> <td>    0.678</td>\n",
       "</tr>\n",
       "</table>"
      ],
      "text/latex": [
       "\\begin{center}\n",
       "\\begin{tabular}{lclc}\n",
       "\\toprule\n",
       "\\textbf{Dep. Variable:}          &     DEFAULT      & \\textbf{  No. Observations:  } &      568    \\\\\n",
       "\\textbf{Model:}                  &      Logit       & \\textbf{  Df Residuals:      } &      560    \\\\\n",
       "\\textbf{Method:}                 &       MLE        & \\textbf{  Df Model:          } &        7    \\\\\n",
       "\\textbf{Date:}                   & Wed, 16 Oct 2024 & \\textbf{  Pseudo R-squ.:     } &  0.08222    \\\\\n",
       "\\textbf{Time:}                   &     15:16:21     & \\textbf{  Log-Likelihood:    } &   -361.34   \\\\\n",
       "\\textbf{converged:}              &       True       & \\textbf{  LL-Null:           } &   -393.71   \\\\\n",
       "\\textbf{Covariance Type:}        &    nonrobust     & \\textbf{  LLR p-value:       } & 1.694e-11   \\\\\n",
       "\\bottomrule\n",
       "\\end{tabular}\n",
       "\\begin{tabular}{lcccccc}\n",
       "                                 & \\textbf{coef} & \\textbf{std err} & \\textbf{z} & \\textbf{P$> |$z$|$} & \\textbf{[0.025} & \\textbf{0.975]}  \\\\\n",
       "\\midrule\n",
       "\\textbf{INCOME}                  &   -5.557e-07  &      8.7e-07     &    -0.639  &         0.523        &    -2.26e-06    &     1.15e-06     \\\\\n",
       "\\textbf{R\\_DEBT\\_INCOME}         &       0.1147  &        0.018     &     6.468  &         0.000        &        0.080    &        0.149     \\\\\n",
       "\\textbf{R\\_EXPENDITURE}          &      -7.3747  &        3.140     &    -2.349  &         0.019        &      -13.529    &       -1.221     \\\\\n",
       "\\textbf{R\\_EXPENDITURE\\_SQR}     &       9.1949  &        3.595     &     2.558  &         0.011        &        2.149    &       16.241     \\\\\n",
       "\\textbf{R\\_EXPENDITURE\\_SAVINGS} &       0.0644  &        0.053     &     1.219  &         0.223        &       -0.039    &        0.168     \\\\\n",
       "\\textbf{R\\_ENTERTAINMENT}        &       0.8753  &        1.363     &     0.642  &         0.521        &       -1.796    &        3.547     \\\\\n",
       "\\textbf{GAMBLING\\_LOW}           &       0.2376  &        0.299     &     0.794  &         0.427        &       -0.349    &        0.824     \\\\\n",
       "\\textbf{GAMBLING\\_HIGH}          &       0.2490  &        0.219     &     1.138  &         0.255        &       -0.180    &        0.678     \\\\\n",
       "\\bottomrule\n",
       "\\end{tabular}\n",
       "%\\caption{Logit Regression Results}\n",
       "\\end{center}"
      ],
      "text/plain": [
       "<class 'statsmodels.iolib.summary.Summary'>\n",
       "\"\"\"\n",
       "                           Logit Regression Results                           \n",
       "==============================================================================\n",
       "Dep. Variable:                DEFAULT   No. Observations:                  568\n",
       "Model:                          Logit   Df Residuals:                      560\n",
       "Method:                           MLE   Df Model:                            7\n",
       "Date:                Wed, 16 Oct 2024   Pseudo R-squ.:                 0.08222\n",
       "Time:                        15:16:21   Log-Likelihood:                -361.34\n",
       "converged:                       True   LL-Null:                       -393.71\n",
       "Covariance Type:            nonrobust   LLR p-value:                 1.694e-11\n",
       "=========================================================================================\n",
       "                            coef    std err          z      P>|z|      [0.025      0.975]\n",
       "-----------------------------------------------------------------------------------------\n",
       "INCOME                -5.557e-07    8.7e-07     -0.639      0.523   -2.26e-06    1.15e-06\n",
       "R_DEBT_INCOME             0.1147      0.018      6.468      0.000       0.080       0.149\n",
       "R_EXPENDITURE            -7.3747      3.140     -2.349      0.019     -13.529      -1.221\n",
       "R_EXPENDITURE_SQR         9.1949      3.595      2.558      0.011       2.149      16.241\n",
       "R_EXPENDITURE_SAVINGS     0.0644      0.053      1.219      0.223      -0.039       0.168\n",
       "R_ENTERTAINMENT           0.8753      1.363      0.642      0.521      -1.796       3.547\n",
       "GAMBLING_LOW              0.2376      0.299      0.794      0.427      -0.349       0.824\n",
       "GAMBLING_HIGH             0.2490      0.219      1.138      0.255      -0.180       0.678\n",
       "=========================================================================================\n",
       "\"\"\""
      ]
     },
     "execution_count": 3,
     "metadata": {},
     "output_type": "execute_result"
    }
   ],
   "source": [
    "# fit model\n",
    "model = sm.Logit(y, X).fit()\n",
    "model.summary()"
   ]
  },
  {
   "cell_type": "code",
   "execution_count": 4,
   "metadata": {},
   "outputs": [
    {
     "name": "stdout",
     "output_type": "stream",
     "text": [
      "Model accuracy:  0.6285211267605634\n"
     ]
    },
    {
     "data": {
      "text/html": [
       "<div>\n",
       "<style scoped>\n",
       "    .dataframe tbody tr th:only-of-type {\n",
       "        vertical-align: middle;\n",
       "    }\n",
       "\n",
       "    .dataframe tbody tr th {\n",
       "        vertical-align: top;\n",
       "    }\n",
       "\n",
       "    .dataframe thead th {\n",
       "        text-align: right;\n",
       "    }\n",
       "</style>\n",
       "<table border=\"1\" class=\"dataframe\">\n",
       "  <thead>\n",
       "    <tr style=\"text-align: right;\">\n",
       "      <th>Actual</th>\n",
       "      <th>0</th>\n",
       "      <th>1</th>\n",
       "    </tr>\n",
       "    <tr>\n",
       "      <th>Predicted</th>\n",
       "      <th></th>\n",
       "      <th></th>\n",
       "    </tr>\n",
       "  </thead>\n",
       "  <tbody>\n",
       "    <tr>\n",
       "      <th>0</th>\n",
       "      <td>196</td>\n",
       "      <td>123</td>\n",
       "    </tr>\n",
       "    <tr>\n",
       "      <th>1</th>\n",
       "      <td>88</td>\n",
       "      <td>161</td>\n",
       "    </tr>\n",
       "  </tbody>\n",
       "</table>\n",
       "</div>"
      ],
      "text/plain": [
       "Actual       0    1\n",
       "Predicted          \n",
       "0          196  123\n",
       "1           88  161"
      ]
     },
     "execution_count": 4,
     "metadata": {},
     "output_type": "execute_result"
    }
   ],
   "source": [
    "# calculate model accuracy\n",
    "model_pred = model.predict(X)\n",
    "model_pred = model_pred.apply(lambda x: 1 if x > 0.5 else 0)\n",
    "model_accuracy = np.mean(model_pred == y)\n",
    "print(\"Model accuracy: \", model_accuracy)\n",
    "\n",
    "# model confusion matrix\n",
    "model_cm = pd.crosstab(model_pred, y, rownames=['Predicted'], colnames=['Actual'])\n",
    "model_cm\n"
   ]
  }
 ],
 "metadata": {
  "kernelspec": {
   "display_name": ".venv",
   "language": "python",
   "name": "python3"
  },
  "language_info": {
   "codemirror_mode": {
    "name": "ipython",
    "version": 3
   },
   "file_extension": ".py",
   "mimetype": "text/x-python",
   "name": "python",
   "nbconvert_exporter": "python",
   "pygments_lexer": "ipython3",
   "version": "3.10.12"
  },
  "orig_nbformat": 4
 },
 "nbformat": 4,
 "nbformat_minor": 2
}
